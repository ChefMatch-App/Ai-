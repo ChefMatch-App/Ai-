{
 "cells": [
  {
   "cell_type": "code",
   "execution_count": null,
   "id": "dfd8ae29",
   "metadata": {},
   "outputs": [],
   "source": [
    "from flask import Flask, request, jsonify\n",
    "\n",
    "from your_module import get_svd_recommendations  # Make sure to replace 'your_module' with the actual module name\n",
    "\n",
    "app = Flask(__name__)\n",
    "\n",
    "# Define a route to get recommendations\n",
    "@app.route('/recommendations', methods=['GET'])\n",
    "def recommendations():\n",
    "    # parameters from the request\n",
    "    user_id = request.args.get('user_id', type=int)\n",
    "    top_n = request.args.get('top_n', default=5, type=int)\n",
    "\n",
    "    \n",
    "    if user_id is None:\n",
    "        return jsonify({\"error\": \"User ID is required\"}), 400\n",
    "\n",
    "    # Get the recommendations\n",
    "    recs = get_svd_recommendations(user_id=user_id, top_n=top_n)\n",
    "\n",
    "    # Return the recommendations in JSON format\n",
    "    return jsonify({\"recommendations\": recs})\n",
    "\n",
    "if __name__ == '__main__':\n",
    "    app.run(debug=True)\n"
   ]
  }
 ],
 "metadata": {
  "kernelspec": {
   "display_name": "Python 3 (ipykernel)",
   "language": "python",
   "name": "python3"
  },
  "language_info": {
   "codemirror_mode": {
    "name": "ipython",
    "version": 3
   },
   "file_extension": ".py",
   "mimetype": "text/x-python",
   "name": "python",
   "nbconvert_exporter": "python",
   "pygments_lexer": "ipython3",
   "version": "3.9.19"
  }
 },
 "nbformat": 4,
 "nbformat_minor": 5
}
